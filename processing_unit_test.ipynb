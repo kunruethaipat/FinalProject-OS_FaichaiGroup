{
  "nbformat": 4,
  "nbformat_minor": 0,
  "metadata": {
    "colab": {
      "provenance": []
    },
    "kernelspec": {
      "name": "python3",
      "display_name": "Python 3"
    },
    "language_info": {
      "name": "python"
    }
  },
  "cells": [
    {
      "cell_type": "code",
      "source": [
        "!unzip \"BirdNET-Lite.zip\""
      ],
      "metadata": {
        "colab": {
          "base_uri": "https://localhost:8080/"
        },
        "id": "rlb2N6763ta8",
        "outputId": "5a19e93e-dc5e-43a5-acd7-51b764a29844"
      },
      "execution_count": 1,
      "outputs": [
        {
          "output_type": "stream",
          "name": "stdout",
          "text": [
            "Archive:  BirdNET-Lite.zip\n",
            "  inflating: analyze.py              \n",
            "  inflating: __MACOSX/._analyze.py   \n",
            "   creating: Audio_example/\n",
            "  inflating: Audio_example/.DS_Store  \n",
            "  inflating: __MACOSX/Audio_example/._.DS_Store  \n",
            "  inflating: Audio_example/4.wav     \n",
            "  inflating: __MACOSX/Audio_example/._4.wav  \n",
            "  inflating: Audio_example/1.wav     \n",
            "  inflating: __MACOSX/Audio_example/._1.wav  \n",
            "  inflating: Audio_example/3.wav     \n",
            "  inflating: __MACOSX/Audio_example/._3.wav  \n",
            "  inflating: Audio_example/2.wav     \n",
            "  inflating: __MACOSX/Audio_example/._2.wav  \n",
            "   creating: Audio_result/\n",
            "  inflating: __MACOSX/._Audio_result  \n",
            "  inflating: Audio_result/.DS_Store  \n",
            "  inflating: __MACOSX/Audio_result/._.DS_Store  \n",
            "  inflating: LICENSE                 \n",
            "  inflating: __MACOSX/._LICENSE      \n",
            "   creating: model/\n",
            "  inflating: __MACOSX/._model        \n",
            "  inflating: model/labels.txt        \n",
            "  inflating: __MACOSX/model/._labels.txt  \n",
            "  inflating: model/BirdNET_6K_GLOBAL_MODEL.tflite  \n",
            "  inflating: __MACOSX/model/._BirdNET_6K_GLOBAL_MODEL.tflite  \n",
            "  inflating: README.md               \n",
            "  inflating: __MACOSX/._README.md    \n",
            "  inflating: requirements.txt        \n",
            "  inflating: __MACOSX/._requirements.txt  \n"
          ]
        }
      ]
    },
    {
      "cell_type": "code",
      "source": [
        "! pip uninstall -y jax jaxlib tensorflow tflite-runtime numpy"
      ],
      "metadata": {
        "id": "6oGsF1E_jysy",
        "colab": {
          "base_uri": "https://localhost:8080/"
        },
        "outputId": "34e8ecec-abd1-470b-943f-64acbbda15ab"
      },
      "execution_count": 2,
      "outputs": [
        {
          "output_type": "stream",
          "name": "stdout",
          "text": [
            "Found existing installation: jax 0.5.2\n",
            "Uninstalling jax-0.5.2:\n",
            "  Successfully uninstalled jax-0.5.2\n",
            "Found existing installation: jaxlib 0.5.1\n",
            "Uninstalling jaxlib-0.5.1:\n",
            "  Successfully uninstalled jaxlib-0.5.1\n",
            "Found existing installation: tensorflow 2.18.0\n",
            "Uninstalling tensorflow-2.18.0:\n",
            "  Successfully uninstalled tensorflow-2.18.0\n",
            "\u001b[33mWARNING: Skipping tflite-runtime as it is not installed.\u001b[0m\u001b[33m\n",
            "\u001b[0mFound existing installation: numpy 2.0.2\n",
            "Uninstalling numpy-2.0.2:\n",
            "  Successfully uninstalled numpy-2.0.2\n"
          ]
        }
      ]
    },
    {
      "cell_type": "code",
      "source": [
        "! pip cache purge\n",
        "! pip install soundfile resampy numpy==1.24.4 tensorflow==2.15.0"
      ],
      "metadata": {
        "colab": {
          "base_uri": "https://localhost:8080/",
          "height": 1000
        },
        "id": "eAysMhJp4UVN",
        "outputId": "2e92c356-2525-4dec-8c24-6d566b83b5f1"
      },
      "execution_count": 3,
      "outputs": [
        {
          "output_type": "stream",
          "name": "stdout",
          "text": [
            "\u001b[33mWARNING: No matching packages\u001b[0m\u001b[33m\n",
            "\u001b[0mFiles removed: 0\n",
            "Requirement already satisfied: soundfile in /usr/local/lib/python3.11/dist-packages (0.13.1)\n",
            "Collecting resampy\n",
            "  Downloading resampy-0.4.3-py3-none-any.whl.metadata (3.0 kB)\n",
            "Collecting numpy==1.24.4\n",
            "  Downloading numpy-1.24.4-cp311-cp311-manylinux_2_17_x86_64.manylinux2014_x86_64.whl.metadata (5.6 kB)\n",
            "Collecting tensorflow==2.15.0\n",
            "  Downloading tensorflow-2.15.0-cp311-cp311-manylinux_2_17_x86_64.manylinux2014_x86_64.whl.metadata (4.4 kB)\n",
            "Requirement already satisfied: absl-py>=1.0.0 in /usr/local/lib/python3.11/dist-packages (from tensorflow==2.15.0) (1.4.0)\n",
            "Requirement already satisfied: astunparse>=1.6.0 in /usr/local/lib/python3.11/dist-packages (from tensorflow==2.15.0) (1.6.3)\n",
            "Requirement already satisfied: flatbuffers>=23.5.26 in /usr/local/lib/python3.11/dist-packages (from tensorflow==2.15.0) (25.2.10)\n",
            "Requirement already satisfied: gast!=0.5.0,!=0.5.1,!=0.5.2,>=0.2.1 in /usr/local/lib/python3.11/dist-packages (from tensorflow==2.15.0) (0.6.0)\n",
            "Requirement already satisfied: google-pasta>=0.1.1 in /usr/local/lib/python3.11/dist-packages (from tensorflow==2.15.0) (0.2.0)\n",
            "Requirement already satisfied: h5py>=2.9.0 in /usr/local/lib/python3.11/dist-packages (from tensorflow==2.15.0) (3.13.0)\n",
            "Requirement already satisfied: libclang>=13.0.0 in /usr/local/lib/python3.11/dist-packages (from tensorflow==2.15.0) (18.1.1)\n",
            "Collecting ml-dtypes~=0.2.0 (from tensorflow==2.15.0)\n",
            "  Downloading ml_dtypes-0.2.0-cp311-cp311-manylinux_2_17_x86_64.manylinux2014_x86_64.whl.metadata (20 kB)\n",
            "Requirement already satisfied: opt-einsum>=2.3.2 in /usr/local/lib/python3.11/dist-packages (from tensorflow==2.15.0) (3.4.0)\n",
            "Requirement already satisfied: packaging in /usr/local/lib/python3.11/dist-packages (from tensorflow==2.15.0) (24.2)\n",
            "Collecting protobuf!=4.21.0,!=4.21.1,!=4.21.2,!=4.21.3,!=4.21.4,!=4.21.5,<5.0.0dev,>=3.20.3 (from tensorflow==2.15.0)\n",
            "  Downloading protobuf-4.25.7-cp37-abi3-manylinux2014_x86_64.whl.metadata (541 bytes)\n",
            "Requirement already satisfied: setuptools in /usr/local/lib/python3.11/dist-packages (from tensorflow==2.15.0) (75.2.0)\n",
            "Requirement already satisfied: six>=1.12.0 in /usr/local/lib/python3.11/dist-packages (from tensorflow==2.15.0) (1.17.0)\n",
            "Requirement already satisfied: termcolor>=1.1.0 in /usr/local/lib/python3.11/dist-packages (from tensorflow==2.15.0) (3.0.1)\n",
            "Requirement already satisfied: typing-extensions>=3.6.6 in /usr/local/lib/python3.11/dist-packages (from tensorflow==2.15.0) (4.13.2)\n",
            "Collecting wrapt<1.15,>=1.11.0 (from tensorflow==2.15.0)\n",
            "  Downloading wrapt-1.14.1-cp311-cp311-manylinux_2_5_x86_64.manylinux1_x86_64.manylinux_2_17_x86_64.manylinux2014_x86_64.whl.metadata (6.7 kB)\n",
            "Requirement already satisfied: tensorflow-io-gcs-filesystem>=0.23.1 in /usr/local/lib/python3.11/dist-packages (from tensorflow==2.15.0) (0.37.1)\n",
            "Requirement already satisfied: grpcio<2.0,>=1.24.3 in /usr/local/lib/python3.11/dist-packages (from tensorflow==2.15.0) (1.71.0)\n",
            "Collecting tensorboard<2.16,>=2.15 (from tensorflow==2.15.0)\n",
            "  Downloading tensorboard-2.15.2-py3-none-any.whl.metadata (1.7 kB)\n",
            "Collecting tensorflow-estimator<2.16,>=2.15.0 (from tensorflow==2.15.0)\n",
            "  Downloading tensorflow_estimator-2.15.0-py2.py3-none-any.whl.metadata (1.3 kB)\n",
            "Collecting keras<2.16,>=2.15.0 (from tensorflow==2.15.0)\n",
            "  Downloading keras-2.15.0-py3-none-any.whl.metadata (2.4 kB)\n",
            "Requirement already satisfied: cffi>=1.0 in /usr/local/lib/python3.11/dist-packages (from soundfile) (1.17.1)\n",
            "Requirement already satisfied: numba>=0.53 in /usr/local/lib/python3.11/dist-packages (from resampy) (0.60.0)\n",
            "Requirement already satisfied: wheel<1.0,>=0.23.0 in /usr/local/lib/python3.11/dist-packages (from astunparse>=1.6.0->tensorflow==2.15.0) (0.45.1)\n",
            "Requirement already satisfied: pycparser in /usr/local/lib/python3.11/dist-packages (from cffi>=1.0->soundfile) (2.22)\n",
            "Requirement already satisfied: llvmlite<0.44,>=0.43.0dev0 in /usr/local/lib/python3.11/dist-packages (from numba>=0.53->resampy) (0.43.0)\n",
            "Requirement already satisfied: google-auth<3,>=1.6.3 in /usr/local/lib/python3.11/dist-packages (from tensorboard<2.16,>=2.15->tensorflow==2.15.0) (2.38.0)\n",
            "Requirement already satisfied: google-auth-oauthlib<2,>=0.5 in /usr/local/lib/python3.11/dist-packages (from tensorboard<2.16,>=2.15->tensorflow==2.15.0) (1.2.2)\n",
            "Requirement already satisfied: markdown>=2.6.8 in /usr/local/lib/python3.11/dist-packages (from tensorboard<2.16,>=2.15->tensorflow==2.15.0) (3.8)\n",
            "Requirement already satisfied: requests<3,>=2.21.0 in /usr/local/lib/python3.11/dist-packages (from tensorboard<2.16,>=2.15->tensorflow==2.15.0) (2.32.3)\n",
            "Requirement already satisfied: tensorboard-data-server<0.8.0,>=0.7.0 in /usr/local/lib/python3.11/dist-packages (from tensorboard<2.16,>=2.15->tensorflow==2.15.0) (0.7.2)\n",
            "Requirement already satisfied: werkzeug>=1.0.1 in /usr/local/lib/python3.11/dist-packages (from tensorboard<2.16,>=2.15->tensorflow==2.15.0) (3.1.3)\n",
            "Requirement already satisfied: cachetools<6.0,>=2.0.0 in /usr/local/lib/python3.11/dist-packages (from google-auth<3,>=1.6.3->tensorboard<2.16,>=2.15->tensorflow==2.15.0) (5.5.2)\n",
            "Requirement already satisfied: pyasn1-modules>=0.2.1 in /usr/local/lib/python3.11/dist-packages (from google-auth<3,>=1.6.3->tensorboard<2.16,>=2.15->tensorflow==2.15.0) (0.4.2)\n",
            "Requirement already satisfied: rsa<5,>=3.1.4 in /usr/local/lib/python3.11/dist-packages (from google-auth<3,>=1.6.3->tensorboard<2.16,>=2.15->tensorflow==2.15.0) (4.9.1)\n",
            "Requirement already satisfied: requests-oauthlib>=0.7.0 in /usr/local/lib/python3.11/dist-packages (from google-auth-oauthlib<2,>=0.5->tensorboard<2.16,>=2.15->tensorflow==2.15.0) (2.0.0)\n",
            "Requirement already satisfied: charset-normalizer<4,>=2 in /usr/local/lib/python3.11/dist-packages (from requests<3,>=2.21.0->tensorboard<2.16,>=2.15->tensorflow==2.15.0) (3.4.1)\n",
            "Requirement already satisfied: idna<4,>=2.5 in /usr/local/lib/python3.11/dist-packages (from requests<3,>=2.21.0->tensorboard<2.16,>=2.15->tensorflow==2.15.0) (3.10)\n",
            "Requirement already satisfied: urllib3<3,>=1.21.1 in /usr/local/lib/python3.11/dist-packages (from requests<3,>=2.21.0->tensorboard<2.16,>=2.15->tensorflow==2.15.0) (2.4.0)\n",
            "Requirement already satisfied: certifi>=2017.4.17 in /usr/local/lib/python3.11/dist-packages (from requests<3,>=2.21.0->tensorboard<2.16,>=2.15->tensorflow==2.15.0) (2025.4.26)\n",
            "Requirement already satisfied: MarkupSafe>=2.1.1 in /usr/local/lib/python3.11/dist-packages (from werkzeug>=1.0.1->tensorboard<2.16,>=2.15->tensorflow==2.15.0) (3.0.2)\n",
            "Requirement already satisfied: pyasn1<0.7.0,>=0.6.1 in /usr/local/lib/python3.11/dist-packages (from pyasn1-modules>=0.2.1->google-auth<3,>=1.6.3->tensorboard<2.16,>=2.15->tensorflow==2.15.0) (0.6.1)\n",
            "Requirement already satisfied: oauthlib>=3.0.0 in /usr/local/lib/python3.11/dist-packages (from requests-oauthlib>=0.7.0->google-auth-oauthlib<2,>=0.5->tensorboard<2.16,>=2.15->tensorflow==2.15.0) (3.2.2)\n",
            "Downloading numpy-1.24.4-cp311-cp311-manylinux_2_17_x86_64.manylinux2014_x86_64.whl (17.3 MB)\n",
            "\u001b[2K   \u001b[90m━━━━━━━━━━━━━━━━━━━━━━━━━━━━━━━━━━━━━━━━\u001b[0m \u001b[32m17.3/17.3 MB\u001b[0m \u001b[31m61.9 MB/s\u001b[0m eta \u001b[36m0:00:00\u001b[0m\n",
            "\u001b[?25hDownloading tensorflow-2.15.0-cp311-cp311-manylinux_2_17_x86_64.manylinux2014_x86_64.whl (475.3 MB)\n",
            "\u001b[2K   \u001b[90m━━━━━━━━━━━━━━━━━━━━━━━━━━━━━━━━━━━━━━━━\u001b[0m \u001b[32m475.3/475.3 MB\u001b[0m \u001b[31m3.4 MB/s\u001b[0m eta \u001b[36m0:00:00\u001b[0m\n",
            "\u001b[?25hDownloading resampy-0.4.3-py3-none-any.whl (3.1 MB)\n",
            "\u001b[2K   \u001b[90m━━━━━━━━━━━━━━━━━━━━━━━━━━━━━━━━━━━━━━━━\u001b[0m \u001b[32m3.1/3.1 MB\u001b[0m \u001b[31m91.0 MB/s\u001b[0m eta \u001b[36m0:00:00\u001b[0m\n",
            "\u001b[?25hDownloading keras-2.15.0-py3-none-any.whl (1.7 MB)\n",
            "\u001b[2K   \u001b[90m━━━━━━━━━━━━━━━━━━━━━━━━━━━━━━━━━━━━━━━━\u001b[0m \u001b[32m1.7/1.7 MB\u001b[0m \u001b[31m74.7 MB/s\u001b[0m eta \u001b[36m0:00:00\u001b[0m\n",
            "\u001b[?25hDownloading ml_dtypes-0.2.0-cp311-cp311-manylinux_2_17_x86_64.manylinux2014_x86_64.whl (1.0 MB)\n",
            "\u001b[2K   \u001b[90m━━━━━━━━━━━━━━━━━━━━━━━━━━━━━━━━━━━━━━━━\u001b[0m \u001b[32m1.0/1.0 MB\u001b[0m \u001b[31m56.1 MB/s\u001b[0m eta \u001b[36m0:00:00\u001b[0m\n",
            "\u001b[?25hDownloading protobuf-4.25.7-cp37-abi3-manylinux2014_x86_64.whl (294 kB)\n",
            "\u001b[2K   \u001b[90m━━━━━━━━━━━━━━━━━━━━━━━━━━━━━━━━━━━━━━━━\u001b[0m \u001b[32m294.6/294.6 kB\u001b[0m \u001b[31m24.2 MB/s\u001b[0m eta \u001b[36m0:00:00\u001b[0m\n",
            "\u001b[?25hDownloading tensorboard-2.15.2-py3-none-any.whl (5.5 MB)\n",
            "\u001b[2K   \u001b[90m━━━━━━━━━━━━━━━━━━━━━━━━━━━━━━━━━━━━━━━━\u001b[0m \u001b[32m5.5/5.5 MB\u001b[0m \u001b[31m80.8 MB/s\u001b[0m eta \u001b[36m0:00:00\u001b[0m\n",
            "\u001b[?25hDownloading tensorflow_estimator-2.15.0-py2.py3-none-any.whl (441 kB)\n",
            "\u001b[2K   \u001b[90m━━━━━━━━━━━━━━━━━━━━━━━━━━━━━━━━━━━━━━━━\u001b[0m \u001b[32m442.0/442.0 kB\u001b[0m \u001b[31m35.9 MB/s\u001b[0m eta \u001b[36m0:00:00\u001b[0m\n",
            "\u001b[?25hDownloading wrapt-1.14.1-cp311-cp311-manylinux_2_5_x86_64.manylinux1_x86_64.manylinux_2_17_x86_64.manylinux2014_x86_64.whl (78 kB)\n",
            "\u001b[2K   \u001b[90m━━━━━━━━━━━━━━━━━━━━━━━━━━━━━━━━━━━━━━━━\u001b[0m \u001b[32m78.4/78.4 kB\u001b[0m \u001b[31m7.1 MB/s\u001b[0m eta \u001b[36m0:00:00\u001b[0m\n",
            "\u001b[?25hInstalling collected packages: wrapt, tensorflow-estimator, protobuf, numpy, keras, ml-dtypes, resampy, tensorboard, tensorflow\n",
            "  Attempting uninstall: wrapt\n",
            "    Found existing installation: wrapt 1.17.2\n",
            "    Uninstalling wrapt-1.17.2:\n",
            "      Successfully uninstalled wrapt-1.17.2\n",
            "  Attempting uninstall: protobuf\n",
            "    Found existing installation: protobuf 5.29.4\n",
            "    Uninstalling protobuf-5.29.4:\n",
            "      Successfully uninstalled protobuf-5.29.4\n",
            "  Attempting uninstall: keras\n",
            "    Found existing installation: keras 3.8.0\n",
            "    Uninstalling keras-3.8.0:\n",
            "      Successfully uninstalled keras-3.8.0\n",
            "  Attempting uninstall: ml-dtypes\n",
            "    Found existing installation: ml-dtypes 0.4.1\n",
            "    Uninstalling ml-dtypes-0.4.1:\n",
            "      Successfully uninstalled ml-dtypes-0.4.1\n",
            "  Attempting uninstall: tensorboard\n",
            "    Found existing installation: tensorboard 2.18.0\n",
            "    Uninstalling tensorboard-2.18.0:\n",
            "      Successfully uninstalled tensorboard-2.18.0\n",
            "\u001b[31mERROR: pip's dependency resolver does not currently take into account all the packages that are installed. This behaviour is the source of the following dependency conflicts.\n",
            "optax 0.2.4 requires jax>=0.4.27, which is not installed.\n",
            "optax 0.2.4 requires jaxlib>=0.4.27, which is not installed.\n",
            "chex 0.1.89 requires jax>=0.4.27, which is not installed.\n",
            "chex 0.1.89 requires jaxlib>=0.4.27, which is not installed.\n",
            "dopamine-rl 4.1.2 requires jax>=0.1.72, which is not installed.\n",
            "dopamine-rl 4.1.2 requires jaxlib>=0.1.51, which is not installed.\n",
            "flax 0.10.6 requires jax>=0.5.1, which is not installed.\n",
            "orbax-checkpoint 0.11.12 requires jax>=0.5.0, which is not installed.\n",
            "grpcio-status 1.71.0 requires protobuf<6.0dev,>=5.26.1, but you have protobuf 4.25.7 which is incompatible.\n",
            "tensorstore 0.1.74 requires ml_dtypes>=0.3.1, but you have ml-dtypes 0.2.0 which is incompatible.\n",
            "tensorflow-text 2.18.1 requires tensorflow<2.19,>=2.18.0, but you have tensorflow 2.15.0 which is incompatible.\n",
            "tensorflow-decision-forests 1.11.0 requires tensorflow==2.18.0, but you have tensorflow 2.15.0 which is incompatible.\n",
            "tf-keras 2.18.0 requires tensorflow<2.19,>=2.18, but you have tensorflow 2.15.0 which is incompatible.\n",
            "ydf 0.11.0 requires protobuf<6.0.0,>=5.29.1, but you have protobuf 4.25.7 which is incompatible.\n",
            "treescope 0.1.9 requires numpy>=1.25.2, but you have numpy 1.24.4 which is incompatible.\n",
            "blosc2 3.3.1 requires numpy>=1.26, but you have numpy 1.24.4 which is incompatible.\n",
            "thinc 8.3.6 requires numpy<3.0.0,>=2.0.0, but you have numpy 1.24.4 which is incompatible.\n",
            "pymc 5.22.0 requires numpy>=1.25.0, but you have numpy 1.24.4 which is incompatible.\u001b[0m\u001b[31m\n",
            "\u001b[0mSuccessfully installed keras-2.15.0 ml-dtypes-0.2.0 numpy-1.24.4 protobuf-4.25.7 resampy-0.4.3 tensorboard-2.15.2 tensorflow-2.15.0 tensorflow-estimator-2.15.0 wrapt-1.14.1\n"
          ]
        },
        {
          "output_type": "display_data",
          "data": {
            "application/vnd.colab-display-data+json": {
              "pip_warning": {
                "packages": [
                  "numpy"
                ]
              },
              "id": "c75a9cf542bf4bb592fd5034f1261259"
            }
          },
          "metadata": {}
        }
      ]
    },
    {
      "cell_type": "markdown",
      "source": [
        "# CPU TEST"
      ],
      "metadata": {
        "id": "NCYfNoe2j07c"
      }
    },
    {
      "cell_type": "code",
      "source": [
        "import os\n",
        "import time\n",
        "from datetime import datetime\n",
        "\n",
        "AUDIO_FOLDER = \"Audio_example\"\n",
        "OUTPUT_FOLDER = \"Audio_result\"\n",
        "lat = 13.75\n",
        "lon = 100.5\n",
        "week = 18\n",
        "\n",
        "# Start timer monitoring\n",
        "start = time.time()\n",
        "\n",
        "# Process one by one (sequentially)\n",
        "for file in os.listdir(AUDIO_FOLDER):\n",
        "    if file.endswith(\".wav\"):\n",
        "        input_path = os.path.join(AUDIO_FOLDER, file)\n",
        "        output_path = os.path.join(OUTPUT_FOLDER, file.replace(\".wav\", \".csv\"))\n",
        "        cmd = f\"python analyze.py --i {input_path} --o {output_path} --lat {lat} --lon {lon} --week {week}\"\n",
        "\n",
        "        start_time = datetime.now()\n",
        "        print(f\"[{start_time.strftime('%H:%M:%S')}] START: {cmd}\")\n",
        "        os.system(cmd)\n",
        "        end_time = datetime.now()\n",
        "\n",
        "        duration = (end_time - start_time).total_seconds()\n",
        "        print(f\"[{end_time.strftime('%H:%M:%S')}] END: {file} processed in {duration:.2f} seconds\\n\")\n",
        "\n",
        "end = time.time()\n",
        "print(f\"Total Time (Single-threaded): {end - start:.2f} seconds\")"
      ],
      "metadata": {
        "colab": {
          "base_uri": "https://localhost:8080/"
        },
        "id": "PxBHNFg-35XQ",
        "outputId": "95f647f2-bfb4-4694-ac04-1ce4b54a5369"
      },
      "execution_count": 1,
      "outputs": [
        {
          "output_type": "stream",
          "name": "stdout",
          "text": [
            "[20:46:02] START: python analyze.py --i Audio_example/4.wav --o Audio_result/4.csv --lat 13.75 --lon 100.5 --week 18\n",
            "[20:46:16] END: 4.wav processed in 13.34 seconds\n",
            "\n",
            "[20:46:16] START: python analyze.py --i Audio_example/3.wav --o Audio_result/3.csv --lat 13.75 --lon 100.5 --week 18\n",
            "[20:46:22] END: 3.wav processed in 6.52 seconds\n",
            "\n",
            "[20:46:22] START: python analyze.py --i Audio_example/2.wav --o Audio_result/2.csv --lat 13.75 --lon 100.5 --week 18\n",
            "[20:46:31] END: 2.wav processed in 9.19 seconds\n",
            "\n",
            "[20:46:31] START: python analyze.py --i Audio_example/1.wav --o Audio_result/1.csv --lat 13.75 --lon 100.5 --week 18\n",
            "[20:46:40] END: 1.wav processed in 8.63 seconds\n",
            "\n",
            "Total Time (Single-threaded): 37.69 seconds\n"
          ]
        }
      ]
    },
    {
      "cell_type": "code",
      "source": [
        "# Multithreaded execution: Run up to 2 audio files in parallel using a thread pool\n",
        "import os\n",
        "import time\n",
        "import subprocess\n",
        "import threading\n",
        "from datetime import datetime\n",
        "from concurrent.futures import ThreadPoolExecutor\n",
        "\n",
        "AUDIO_FOLDER = \"Audio_example\"\n",
        "OUTPUT_FOLDER = \"Audio_result\"\n",
        "lat = 13.75\n",
        "lon = 100.5\n",
        "week = 18\n",
        "\n",
        "def run_analysis(file):\n",
        "    try:\n",
        "        input_path = os.path.join(AUDIO_FOLDER, file)\n",
        "        output_path = os.path.join(OUTPUT_FOLDER, file.replace(\".wav\", \".csv\"))\n",
        "\n",
        "        if not os.path.exists(input_path):\n",
        "            raise FileNotFoundError(f\"{input_path} not found\")\n",
        "        if not file.endswith(\".wav\"):\n",
        "            raise ValueError(f\"{file} is not a WAV file\")\n",
        "\n",
        "        command = [\n",
        "            \"python\", \"analyze.py\",\n",
        "            \"--i\", input_path,\n",
        "            \"--o\", output_path,\n",
        "            \"--lat\", str(lat),\n",
        "            \"--lon\", str(lon),\n",
        "            \"--week\", str(week)\n",
        "        ]\n",
        "\n",
        "        start_time = datetime.now()\n",
        "        print(f\"[{start_time.strftime('%H:%M:%S')}] START: {' '.join(command)}\")\n",
        "\n",
        "        result = subprocess.run(command, capture_output=True, text=True)\n",
        "\n",
        "        end_time = datetime.now()\n",
        "        duration = (end_time - start_time).total_seconds()\n",
        "\n",
        "        if result.returncode != 0:\n",
        "            print(f\"[{end_time.strftime('%H:%M:%S')}] Error processing {file} (Duration: {duration:.2f}s):\\n{result.stderr}\")\n",
        "        else:\n",
        "            print(f\"[{end_time.strftime('%H:%M:%S')}] Processed {file} successfully in {duration:.2f} seconds\")\n",
        "\n",
        "    except Exception as e:\n",
        "        print(f\"Failed to process {file}: {e}\")\n",
        "\n",
        "# Run multithreaded analysis\n",
        "wav_files = [f for f in os.listdir(AUDIO_FOLDER) if f.endswith(\".wav\")]\n",
        "start = time.time()\n",
        "with ThreadPoolExecutor(max_workers=2) as executor:\n",
        "    executor.map(run_analysis, wav_files)\n",
        "end = time.time()\n",
        "\n",
        "print(f\"Total Time (Multithreaded): {end - start:.2f} seconds\")\n"
      ],
      "metadata": {
        "id": "Azynj0lzj6xO",
        "colab": {
          "base_uri": "https://localhost:8080/"
        },
        "outputId": "2f79cea9-8e67-4e16-9a5d-a2c251493aaf"
      },
      "execution_count": 2,
      "outputs": [
        {
          "output_type": "stream",
          "name": "stdout",
          "text": [
            "[20:46:47] START: python analyze.py --i Audio_example/4.wav --o Audio_result/4.csv --lat 13.75 --lon 100.5 --week 18\n",
            "[20:46:47] START: python analyze.py --i Audio_example/3.wav --o Audio_result/3.csv --lat 13.75 --lon 100.5 --week 18\n",
            "[20:46:59] Processed 3.wav successfully in 11.99 seconds\n",
            "[20:46:59] START: python analyze.py --i Audio_example/2.wav --o Audio_result/2.csv --lat 13.75 --lon 100.5 --week 18\n",
            "[20:47:03] Processed 4.wav successfully in 15.97 seconds\n",
            "[20:47:03] START: python analyze.py --i Audio_example/1.wav --o Audio_result/1.csv --lat 13.75 --lon 100.5 --week 18\n",
            "[20:47:13] Processed 2.wav successfully in 14.01 seconds\n",
            "[20:47:16] Processed 1.wav successfully in 12.93 seconds\n",
            "Total Time (Multithreaded): 28.89 seconds\n"
          ]
        }
      ]
    },
    {
      "cell_type": "code",
      "source": [
        "# Multithreaded execution: Run up to 4 audio files in parallel using a thread pool\n",
        "import os\n",
        "import time\n",
        "import subprocess\n",
        "import threading\n",
        "from datetime import datetime\n",
        "from concurrent.futures import ThreadPoolExecutor\n",
        "\n",
        "AUDIO_FOLDER = \"Audio_example\"\n",
        "OUTPUT_FOLDER = \"Audio_result\"\n",
        "lat = 13.75\n",
        "lon = 100.5\n",
        "week = 18\n",
        "\n",
        "def run_analysis(file):\n",
        "    try:\n",
        "        input_path = os.path.join(AUDIO_FOLDER, file)\n",
        "        output_path = os.path.join(OUTPUT_FOLDER, file.replace(\".wav\", \".csv\"))\n",
        "\n",
        "        if not os.path.exists(input_path):\n",
        "            raise FileNotFoundError(f\"{input_path} not found\")\n",
        "        if not file.endswith(\".wav\"):\n",
        "            raise ValueError(f\"{file} is not a WAV file\")\n",
        "\n",
        "        command = [\n",
        "            \"python\", \"analyze.py\",\n",
        "            \"--i\", input_path,\n",
        "            \"--o\", output_path,\n",
        "            \"--lat\", str(lat),\n",
        "            \"--lon\", str(lon),\n",
        "            \"--week\", str(week)\n",
        "        ]\n",
        "\n",
        "        start_time = datetime.now()\n",
        "        print(f\"[{start_time.strftime('%H:%M:%S')}] START: {' '.join(command)}\")\n",
        "\n",
        "        result = subprocess.run(command, capture_output=True, text=True)\n",
        "\n",
        "        end_time = datetime.now()\n",
        "        duration = (end_time - start_time).total_seconds()\n",
        "\n",
        "        if result.returncode != 0:\n",
        "            print(f\"[{end_time.strftime('%H:%M:%S')}] Error processing {file} (Duration: {duration:.2f}s):\\n{result.stderr}\")\n",
        "        else:\n",
        "            print(f\"[{end_time.strftime('%H:%M:%S')}] Processed {file} successfully in {duration:.2f} seconds\")\n",
        "\n",
        "    except Exception as e:\n",
        "        print(f\"Failed to process {file}: {e}\")\n",
        "\n",
        "# Run multithreaded analysis\n",
        "wav_files = [f for f in os.listdir(AUDIO_FOLDER) if f.endswith(\".wav\")]\n",
        "start = time.time()\n",
        "with ThreadPoolExecutor(max_workers=4) as executor:\n",
        "    executor.map(run_analysis, wav_files)\n",
        "end = time.time()\n",
        "\n",
        "print(f\"Total Time (Multithreaded): {end - start:.2f} seconds\")\n"
      ],
      "metadata": {
        "colab": {
          "base_uri": "https://localhost:8080/"
        },
        "id": "7wQQkcOJ82DP",
        "outputId": "8c5179c8-0877-45d5-b25c-6200b3827a13"
      },
      "execution_count": 4,
      "outputs": [
        {
          "output_type": "stream",
          "name": "stdout",
          "text": [
            "[20:48:03] START: python analyze.py --i Audio_example/4.wav --o Audio_result/4.csv --lat 13.75 --lon 100.5 --week 18\n",
            "[20:48:03] START: python analyze.py --i Audio_example/3.wav --o Audio_result/3.csv --lat 13.75 --lon 100.5 --week 18\n",
            "[20:48:03] START: python analyze.py --i Audio_example/2.wav --o Audio_result/2.csv --lat 13.75 --lon 100.5 --week 18\n",
            "[20:48:03] START: python analyze.py --i Audio_example/1.wav --o Audio_result/1.csv --lat 13.75 --lon 100.5 --week 18\n",
            "[20:48:31] Processed 3.wav successfully in 27.71 seconds\n",
            "[20:48:32] Processed 2.wav successfully in 29.06 seconds\n",
            "[20:48:33] Processed 1.wav successfully in 29.51 seconds\n",
            "[20:48:35] Processed 4.wav successfully in 31.66 seconds\n",
            "Total Time (Multithreaded): 31.66 seconds\n"
          ]
        }
      ]
    }
  ]
}