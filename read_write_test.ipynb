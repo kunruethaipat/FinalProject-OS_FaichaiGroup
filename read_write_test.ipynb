{
  "nbformat": 4,
  "nbformat_minor": 0,
  "metadata": {
    "colab": {
      "provenance": [],
      "gpuType": "V28"
    },
    "kernelspec": {
      "name": "python3",
      "display_name": "Python 3"
    },
    "language_info": {
      "name": "python"
    },
    "accelerator": "TPU"
  },
  "cells": [
    {
      "cell_type": "code",
      "execution_count": null,
      "metadata": {
        "id": "b4J_PyBbnsb-"
      },
      "outputs": [],
      "source": [
        "import time\n",
        "import librosa\n",
        "import soundfile as sf\n",
        "from scipy.io import wavfile\n",
        "import pandas as pd\n",
        "import numpy as np\n",
        "import csv"
      ]
    },
    {
      "cell_type": "code",
      "source": [
        "wav_path = '/content/sample.wav'"
      ],
      "metadata": {
        "id": "k7pSfTXfx_GP"
      },
      "execution_count": null,
      "outputs": []
    },
    {
      "cell_type": "code",
      "source": [
        "def read_librosa(path):\n",
        "    start = time.perf_counter()\n",
        "    y, sr = librosa.load(path, sr=48000, mono=True)\n",
        "    duration = time.perf_counter() - start\n",
        "    return y, sr, duration\n",
        "\n",
        "def read_scipy(path):\n",
        "    start = time.perf_counter()\n",
        "    sr, y = wavfile.read(path)\n",
        "    y = y.astype('float32') / np.max(np.abs(y))  # Normalize\n",
        "    duration = time.perf_counter() - start\n",
        "    return y, sr, duration\n",
        "\n",
        "def read_soundfile(path):\n",
        "    start = time.perf_counter()\n",
        "    y, sr = sf.read(path)\n",
        "    duration = time.perf_counter() - start\n",
        "    return y, sr, duration"
      ],
      "metadata": {
        "id": "Q-wblQDGn-TB"
      },
      "execution_count": null,
      "outputs": []
    },
    {
      "cell_type": "code",
      "source": [
        "mock_data = [\n",
        "    ['0.0', '3.0', 'Cardinalis_cardinalis', 'Northern Cardinal', 0.95],\n",
        "    ['3.0', '6.0', 'Corvus_brachyrhynchos', 'American Crow', 0.87],\n",
        "]\n",
        "\n",
        "def write_csv_standard(path):\n",
        "    start = time.perf_counter()\n",
        "    with open(path, 'w', newline='') as f:\n",
        "        writer = csv.writer(f, delimiter=';')\n",
        "        writer.writerow(['Start (s)', 'End (s)', 'Scientific name', 'Common name', 'Confidence'])\n",
        "        writer.writerows(mock_data)\n",
        "    return time.perf_counter() - start\n",
        "\n",
        "def write_csv_pandas(path):\n",
        "    start = time.perf_counter()\n",
        "    df = pd.DataFrame(mock_data, columns=['Start (s)', 'End (s)', 'Scientific name', 'Common name', 'Confidence'])\n",
        "    df.to_csv(path, index=False, sep=';')\n",
        "    return time.perf_counter() - start\n",
        "\n",
        "def write_csv_numpy(path):\n",
        "    start = time.perf_counter()\n",
        "    arr = np.array(mock_data, dtype=object)\n",
        "    np.savetxt(path, arr, fmt='%s', delimiter=';', header='Start (s);End (s);Scientific name;Common name;Confidence', comments='')\n",
        "    return time.perf_counter() - start\n"
      ],
      "metadata": {
        "id": "tDvnejhPoDVK"
      },
      "execution_count": null,
      "outputs": []
    },
    {
      "cell_type": "code",
      "source": [
        "print(\"==== READ COMPARISON (CPU) ====\")\n",
        "try:\n",
        "    _, _, t1 = read_librosa(wav_path)\n",
        "    print(f\"Librosa:    {t1:.4f} s\")\n",
        "except Exception as e:\n",
        "    print(f\"Librosa failed: {e}\")\n",
        "\n",
        "try:\n",
        "    _, _, t2 = read_scipy(wav_path)\n",
        "    print(f\"SciPy:      {t2:.4f} s\")\n",
        "except Exception as e:\n",
        "    print(f\"SciPy failed: {e}\")\n",
        "\n",
        "try:\n",
        "    _, _, t3 = read_soundfile(wav_path)\n",
        "    print(f\"SoundFile:  {t3:.4f} s\")\n",
        "except Exception as e:\n",
        "    print(f\"SoundFile failed: {e}\")\n",
        "\n",
        "print(\"\\n==== WRITE COMPARISON (CPU) ====\")\n",
        "t4 = write_csv_standard('out_standard.csv')\n",
        "print(f\"CSV module: {t4:.4f} s\")\n",
        "\n",
        "t5 = write_csv_pandas('out_pandas.csv')\n",
        "print(f\"Pandas:     {t5:.4f} s\")\n",
        "\n",
        "t6 = write_csv_numpy('out_numpy.csv')\n",
        "print(f\"Numpy:      {t6:.4f} s\")\n",
        "\n",
        "times = {\n",
        "    \"Librosa\": t1 if 't1' in locals() else float('inf'),\n",
        "    \"SciPy\": t2 if 't2' in locals() else float('inf'),\n",
        "    \"SoundFile\": t3 if 't3' in locals() else float('inf'),\n",
        "    \"CSV\": t4,\n",
        "    \"Pandas\": t5,\n",
        "    \"Numpy\": t6\n",
        "}\n",
        "\n",
        "print(\"\\n==== SUMMARY (CPU) ====\")\n",
        "best_read = min([\"Librosa\", \"SciPy\", \"SoundFile\"], key=lambda k: times[k])\n",
        "best_write = min([\"CSV\", \"Pandas\", \"Numpy\"], key=lambda k: times[k])\n",
        "print(f\"Best Read Method:  {best_read} ({times[best_read]:.4f} s)\")\n",
        "print(f\"Best Write Method: {best_write} ({times[best_write]:.4f} s)\")"
      ],
      "metadata": {
        "colab": {
          "base_uri": "https://localhost:8080/"
        },
        "id": "3fWulQu-oLYh",
        "outputId": "109ecc90-2eca-4334-eab5-3f8e78081d89"
      },
      "execution_count": null,
      "outputs": [
        {
          "output_type": "stream",
          "name": "stdout",
          "text": [
            "==== READ COMPARISON (CPU) ====\n",
            "Librosa:    0.1391 s\n",
            "SciPy failed: cannot reshape array of size 5242481 into shape (2)\n",
            "SoundFile:  0.0264 s\n",
            "\n",
            "==== WRITE COMPARISON (CPU) ====\n",
            "CSV module: 0.0003 s\n",
            "Pandas:     0.0016 s\n",
            "Numpy:      0.0004 s\n",
            "\n",
            "==== SUMMARY (CPU) ====\n",
            "Best Read Method:  SoundFile (0.0264 s)\n",
            "Best Write Method: CSV (0.0003 s)\n"
          ]
        }
      ]
    },
    {
      "cell_type": "code",
      "source": [
        "print(\"==== READ COMPARISON (GPU) ====\")\n",
        "try:\n",
        "    _, _, t1 = read_librosa(wav_path)\n",
        "    print(f\"Librosa:    {t1:.4f} s\")\n",
        "except Exception as e:\n",
        "    print(f\"Librosa failed: {e}\")\n",
        "\n",
        "try:\n",
        "    _, _, t2 = read_scipy(wav_path)\n",
        "    print(f\"SciPy:      {t2:.4f} s\")\n",
        "except Exception as e:\n",
        "    print(f\"SciPy failed: {e}\")\n",
        "\n",
        "try:\n",
        "    _, _, t3 = read_soundfile(wav_path)\n",
        "    print(f\"SoundFile:  {t3:.4f} s\")\n",
        "except Exception as e:\n",
        "    print(f\"SoundFile failed: {e}\")\n",
        "\n",
        "print(\"\\n==== WRITE COMPARISON (GPU) ====\")\n",
        "t4 = write_csv_standard('out_standard.csv')\n",
        "print(f\"CSV module: {t4:.4f} s\")\n",
        "\n",
        "t5 = write_csv_pandas('out_pandas.csv')\n",
        "print(f\"Pandas:     {t5:.4f} s\")\n",
        "\n",
        "t6 = write_csv_numpy('out_numpy.csv')\n",
        "print(f\"Numpy:      {t6:.4f} s\")\n",
        "\n",
        "times = {\n",
        "    \"Librosa\": t1 if 't1' in locals() else float('inf'),\n",
        "    \"SciPy\": t2 if 't2' in locals() else float('inf'),\n",
        "    \"SoundFile\": t3 if 't3' in locals() else float('inf'),\n",
        "    \"CSV\": t4,\n",
        "    \"Pandas\": t5,\n",
        "    \"Numpy\": t6\n",
        "}\n",
        "\n",
        "print(\"\\n==== SUMMARY (GPU) ====\")\n",
        "best_read = min([\"Librosa\", \"SciPy\", \"SoundFile\"], key=lambda k: times[k])\n",
        "best_write = min([\"CSV\", \"Pandas\", \"Numpy\"], key=lambda k: times[k])\n",
        "print(f\"Best Read Method:  {best_read} ({times[best_read]:.4f} s)\")\n",
        "print(f\"Best Write Method: {best_write} ({times[best_write]:.4f} s)\")"
      ],
      "metadata": {
        "colab": {
          "base_uri": "https://localhost:8080/"
        },
        "id": "wtZRKjmUybkn",
        "outputId": "4a0bd066-3139-4185-e38d-b94720e8b400"
      },
      "execution_count": null,
      "outputs": [
        {
          "output_type": "stream",
          "name": "stdout",
          "text": [
            "==== READ COMPARISON (GPU) ====\n",
            "Librosa:    0.1417 s\n",
            "SciPy failed: cannot reshape array of size 5242481 into shape (2)\n",
            "SoundFile:  0.0267 s\n",
            "\n",
            "==== WRITE COMPARISON (GPU) ====\n",
            "CSV module: 0.0002 s\n",
            "Pandas:     0.0018 s\n",
            "Numpy:      0.0004 s\n",
            "\n",
            "==== SUMMARY (GPU) ====\n",
            "Best Read Method:  SoundFile (0.0267 s)\n",
            "Best Write Method: CSV (0.0002 s)\n"
          ]
        }
      ]
    },
    {
      "cell_type": "code",
      "source": [
        "print(\"==== READ COMPARISON (TPU) ====\")\n",
        "try:\n",
        "    _, _, t1 = read_librosa(wav_path)\n",
        "    print(f\"Librosa:    {t1:.4f} s\")\n",
        "except Exception as e:\n",
        "    print(f\"Librosa failed: {e}\")\n",
        "\n",
        "try:\n",
        "    _, _, t2 = read_scipy(wav_path)\n",
        "    print(f\"SciPy:      {t2:.4f} s\")\n",
        "except Exception as e:\n",
        "    print(f\"SciPy failed: {e}\")\n",
        "\n",
        "try:\n",
        "    _, _, t3 = read_soundfile(wav_path)\n",
        "    print(f\"SoundFile:  {t3:.4f} s\")\n",
        "except Exception as e:\n",
        "    print(f\"SoundFile failed: {e}\")\n",
        "\n",
        "print(\"\\n==== WRITE COMPARISON (TPU) ====\")\n",
        "t4 = write_csv_standard('out_standard.csv')\n",
        "print(f\"CSV module: {t4:.4f} s\")\n",
        "\n",
        "t5 = write_csv_pandas('out_pandas.csv')\n",
        "print(f\"Pandas:     {t5:.4f} s\")\n",
        "\n",
        "t6 = write_csv_numpy('out_numpy.csv')\n",
        "print(f\"Numpy:      {t6:.4f} s\")\n",
        "\n",
        "times = {\n",
        "    \"Librosa\": t1 if 't1' in locals() else float('inf'),\n",
        "    \"SciPy\": t2 if 't2' in locals() else float('inf'),\n",
        "    \"SoundFile\": t3 if 't3' in locals() else float('inf'),\n",
        "    \"CSV\": t4,\n",
        "    \"Pandas\": t5,\n",
        "    \"Numpy\": t6\n",
        "}\n",
        "\n",
        "print(\"\\n==== SUMMARY (TPU) ====\")\n",
        "best_read = min([\"Librosa\", \"SciPy\", \"SoundFile\"], key=lambda k: times[k])\n",
        "best_write = min([\"CSV\", \"Pandas\", \"Numpy\"], key=lambda k: times[k])\n",
        "print(f\"Best Read Method:  {best_read} ({times[best_read]:.4f} s)\")\n",
        "print(f\"Best Write Method: {best_write} ({times[best_write]:.4f} s)\")"
      ],
      "metadata": {
        "colab": {
          "base_uri": "https://localhost:8080/"
        },
        "id": "KIbdBBv0zcO5",
        "outputId": "ef223f45-6f3c-489b-9fb1-c8b9554272f3"
      },
      "execution_count": null,
      "outputs": [
        {
          "output_type": "stream",
          "name": "stdout",
          "text": [
            "==== READ COMPARISON (TPU) ====\n",
            "Librosa:    0.1384 s\n",
            "SciPy failed: cannot reshape array of size 5242481 into shape (2)\n",
            "SoundFile:  0.0268 s\n",
            "\n",
            "==== WRITE COMPARISON (TPU) ====\n",
            "CSV module: 0.0002 s\n",
            "Pandas:     0.0015 s\n",
            "Numpy:      0.0003 s\n",
            "\n",
            "==== SUMMARY (TPU) ====\n",
            "Best Read Method:  SoundFile (0.0268 s)\n",
            "Best Write Method: CSV (0.0002 s)\n"
          ]
        }
      ]
    },
    {
      "cell_type": "code",
      "source": [
        "# -------- OPTIONAL CLEANUP --------\n",
        "import os\n",
        "os.remove(\"out_standard.csv\")\n",
        "os.remove(\"out_pandas.csv\")\n",
        "os.remove(\"out_numpy.csv\")"
      ],
      "metadata": {
        "id": "Lq7JLHYMyKK2"
      },
      "execution_count": null,
      "outputs": []
    }
  ]
}